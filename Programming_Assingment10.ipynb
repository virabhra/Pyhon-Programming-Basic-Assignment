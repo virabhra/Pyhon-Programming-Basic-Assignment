{
 "cells": [
  {
   "cell_type": "code",
   "execution_count": 4,
   "metadata": {},
   "outputs": [
    {
     "name": "stdout",
     "output_type": "stream",
     "text": [
      "Enter number of element want in list5\n",
      "Enter element value23\n",
      "Enter element value44\n",
      "Enter element value33\n",
      "Enter element value22\n",
      "Enter element value11\n",
      "you list is [23, 44, 33, 22, 11]\n",
      "133\n"
     ]
    }
   ],
   "source": [
    "n=int(input('Enter number of element want in list'))\n",
    "l=[]\n",
    "for i in range(0,n):\n",
    "    ele=int(input('Enter element value'))\n",
    "    l.append(ele)\n",
    "print('you list is {}'.format(l))\n",
    "print(sum(l))"
   ]
  },
  {
   "cell_type": "code",
   "execution_count": 5,
   "metadata": {},
   "outputs": [],
   "source": [
    "#2.\tWrite a Python program to  Multiply all numbers in the list?"
   ]
  },
  {
   "cell_type": "code",
   "execution_count": 31,
   "metadata": {},
   "outputs": [
    {
     "name": "stdout",
     "output_type": "stream",
     "text": [
      "Enter number of element want in list3\n",
      "Enter you element22\n",
      "Enter you element33\n",
      "Enter you element33\n",
      "your list is [22, 33, 33]\n",
      "your result is 23958\n"
     ]
    }
   ],
   "source": [
    "n=int(input('Enter number of element want in list'))\n",
    "l=[]\n",
    "for i in range(0,n):\n",
    "    ele=int(input('Enter you element'))\n",
    "    l.append(ele)\n",
    "print('your list is {}'.format(l))\n",
    "r=1\n",
    "for i in l:\n",
    "    r=r*i\n",
    "print('your result is {}'.format(r))"
   ]
  },
  {
   "cell_type": "code",
   "execution_count": 32,
   "metadata": {},
   "outputs": [],
   "source": [
    "#3.\tWrite a Python program to find smallest number in a list?"
   ]
  },
  {
   "cell_type": "code",
   "execution_count": 35,
   "metadata": {},
   "outputs": [
    {
     "name": "stdout",
     "output_type": "stream",
     "text": [
      "Enter number of element want in list4\n",
      "Enter value of elements7\n",
      "Enter value of elements77\n",
      "Enter value of elements1\n",
      "Enter value of elements3\n",
      "your lis is now [7, 77, 1, 3]\n",
      "your mmallest number is 1\n"
     ]
    }
   ],
   "source": [
    "n=int(input('Enter number of element want in list'))\n",
    "l=[]\n",
    "for i in range(0,n):\n",
    "    ele=int(input('Enter value of elements'))\n",
    "    l.append(ele)\n",
    "print('your lis is now {}'.format(l))\n",
    "print('your smallest number is {}'.format(min(l)))"
   ]
  },
  {
   "cell_type": "code",
   "execution_count": 36,
   "metadata": {},
   "outputs": [],
   "source": [
    "#4.\tWrite a Python program to find largest number in a list?"
   ]
  },
  {
   "cell_type": "code",
   "execution_count": 39,
   "metadata": {},
   "outputs": [
    {
     "name": "stdout",
     "output_type": "stream",
     "text": [
      "Enter number of element want in list4\n",
      "Enter value of elements33\n",
      "Enter value of elements2\n",
      "Enter value of elements44\n",
      "Enter value of elements1\n",
      "your lis is now [33, 2, 44, 1]\n",
      "your largest number is 44\n"
     ]
    }
   ],
   "source": [
    "n=int(input('Enter number of element want in list'))\n",
    "l=[]\n",
    "for i in range(0,n):\n",
    "    ele=int(input('Enter value of elements'))\n",
    "    l.append(ele)\n",
    "print('your lis is now {}'.format(l))\n",
    "print('your largest number is {}'.format(max(l)))"
   ]
  },
  {
   "cell_type": "code",
   "execution_count": 40,
   "metadata": {},
   "outputs": [],
   "source": [
    "#5.\tWrite a Python program to find second largest number in a list?"
   ]
  },
  {
   "cell_type": "code",
   "execution_count": 43,
   "metadata": {},
   "outputs": [
    {
     "name": "stdout",
     "output_type": "stream",
     "text": [
      "Enter the number of element wnat in list4\n",
      "Enter your elements value5\n",
      "Enter your elements value3\n",
      "Enter your elements value6\n",
      "Enter your elements value1\n",
      "your lis is [5, 3, 6, 1]\n",
      "The second largest number is 5\n"
     ]
    }
   ],
   "source": [
    "n=int(input('Enter the number of element wnat in list'))\n",
    "l=[]\n",
    "for i in range(0,n):\n",
    "    ele=int(input('Enter your elements value'))\n",
    "    l.append(ele)\n",
    "print('your lis is {}'.format(l))\n",
    "l.sort()\n",
    "a=l[-2]\n",
    "print('The second largest number is {}'.format(a))"
   ]
  },
  {
   "cell_type": "code",
   "execution_count": 48,
   "metadata": {},
   "outputs": [],
   "source": [
    "#6.\tWrite a Python program to find N largest elements from a list?"
   ]
  },
  {
   "cell_type": "code",
   "execution_count": 49,
   "metadata": {},
   "outputs": [
    {
     "name": "stdout",
     "output_type": "stream",
     "text": [
      "Enter the number of element wnat in list7\n",
      "Enter your elements value4\n",
      "Enter your elements value5\n",
      "Enter your elements value3\n",
      "Enter your elements value8\n",
      "Enter your elements value9\n",
      "Enter your elements value1\n",
      "Enter your elements value3\n",
      "your lis is [4, 5, 3, 8, 9, 1, 3]\n",
      "The N largest number is [8, 9]\n"
     ]
    }
   ],
   "source": [
    "n=int(input('Enter the number of element wnat in list'))\n",
    "l=[]\n",
    "for i in range(0,n):\n",
    "    ele=int(input('Enter your elements value'))\n",
    "    l.append(ele)\n",
    "print('your lis is {}'.format(l))\n",
    "l.sort()\n",
    "a=l[-2:]\n",
    "print('The N largest number is {}'.format(a))"
   ]
  },
  {
   "cell_type": "code",
   "execution_count": 50,
   "metadata": {},
   "outputs": [],
   "source": [
    "#7.\tWrite a Python program to print even numbers in a list?"
   ]
  },
  {
   "cell_type": "code",
   "execution_count": 4,
   "metadata": {},
   "outputs": [
    {
     "name": "stdout",
     "output_type": "stream",
     "text": [
      "Enter the number of element wnat in list10\n",
      "Enter your elements value2\n",
      "Enter your elements value4\n",
      "Enter your elements value6\n",
      "Enter your elements value1\n",
      "Enter your elements value2\n",
      "Enter your elements value4\n",
      "Enter your elements value5\n",
      "Enter your elements value1\n",
      "Enter your elements value2\n",
      "Enter your elements value3\n",
      "your lis is [2, 4, 6, 1, 2, 4, 5, 1, 2, 3]\n",
      "number is even 2\n",
      "number is even 4\n",
      "number is even 6\n",
      "number is odd 1\n",
      "number is even 2\n",
      "number is even 4\n",
      "number is odd 5\n",
      "number is odd 1\n",
      "number is even 2\n",
      "number is odd 3\n"
     ]
    }
   ],
   "source": [
    "n=int(input('Enter the number of element wnat in list'))\n",
    "l=[]\n",
    "for i in range(0,n):\n",
    "    ele=int(input('Enter your elements value'))\n",
    "    l.append(ele)\n",
    "print('your lis is {}'.format(l))\n",
    "for i in l:\n",
    "    if i%2==0:\n",
    "        print('number is even {}'.format(i))\n",
    "    else:\n",
    "        print('number is odd {}'.format(i))"
   ]
  },
  {
   "cell_type": "code",
   "execution_count": 38,
   "metadata": {},
   "outputs": [],
   "source": [
    "#9.\tWrite a Python program to Remove empty List from List?"
   ]
  },
  {
   "cell_type": "code",
   "execution_count": 47,
   "metadata": {},
   "outputs": [
    {
     "name": "stdout",
     "output_type": "stream",
     "text": [
      "[[1, 2, 3], [3, 4, 5]]\n"
     ]
    }
   ],
   "source": [
    "l=[[1,2,3],[],[3,4,5],[]]\n",
    "c=[]\n",
    "for i in l:\n",
    "    if (type(i)) ==list:\n",
    "        if (len(i))!=0:\n",
    "            c.append(i)\n",
    "print(c)"
   ]
  },
  {
   "cell_type": "code",
   "execution_count": 49,
   "metadata": {},
   "outputs": [],
   "source": [
    "#10.\tWrite a Python program to Cloning or Copying a list?"
   ]
  },
  {
   "cell_type": "code",
   "execution_count": 56,
   "metadata": {},
   "outputs": [
    {
     "data": {
      "text/plain": [
       "[[1, 2, 3], [3, 4, 5]]"
      ]
     },
     "execution_count": 56,
     "metadata": {},
     "output_type": "execute_result"
    }
   ],
   "source": [
    "l=[[1, 2, 3], [3, 4, 5]]\n",
    "l2=[]\n",
    "l2=l.copy()\n",
    "l2"
   ]
  },
  {
   "cell_type": "code",
   "execution_count": 58,
   "metadata": {},
   "outputs": [],
   "source": [
    "#11.\tWrite a Python program to Count occurrences of an element in a list?"
   ]
  },
  {
   "cell_type": "code",
   "execution_count": 68,
   "metadata": {},
   "outputs": [
    {
     "name": "stdout",
     "output_type": "stream",
     "text": [
      "Enter the number want to compare1\n",
      "1\n"
     ]
    }
   ],
   "source": [
    "l=[1,2,3,4,5,3,4,5,4,4,4,4,7,8,8,2,9]\n",
    "x=int(input('Enter the number want to compare'))\n",
    "j=0\n",
    "for i in l:\n",
    "    if i==x:\n",
    "        j=j+1\n",
    "print(j)"
   ]
  }
 ],
 "metadata": {
  "kernelspec": {
   "display_name": "Python 3",
   "language": "python",
   "name": "python3"
  },
  "language_info": {
   "codemirror_mode": {
    "name": "ipython",
    "version": 3
   },
   "file_extension": ".py",
   "mimetype": "text/x-python",
   "name": "python",
   "nbconvert_exporter": "python",
   "pygments_lexer": "ipython3",
   "version": "3.8.3"
  }
 },
 "nbformat": 4,
 "nbformat_minor": 4
}
