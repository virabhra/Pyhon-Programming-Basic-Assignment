{
 "cells": [
  {
   "cell_type": "code",
   "execution_count": 116,
   "metadata": {},
   "outputs": [],
   "source": [
    "import pandas as pd"
   ]
  },
  {
   "cell_type": "code",
   "execution_count": 1,
   "metadata": {},
   "outputs": [],
   "source": [
    "#1.\tWrite a Python Program to find sum of array?"
   ]
  },
  {
   "cell_type": "code",
   "execution_count": 153,
   "metadata": {},
   "outputs": [
    {
     "name": "stdout",
     "output_type": "stream",
     "text": [
      "Enter the number of elements in array4\n",
      "Enter the element2\n",
      "Enter the element33\n",
      "Enter the element2\n",
      "Enter the element1\n",
      "Now your list is [2, 33, 2, 1]\n",
      "38\n"
     ]
    }
   ],
   "source": [
    "n=int(input('Enter the number of elements in array'))\n",
    "l=[]\n",
    "for i in range(0,n):\n",
    "    ele=int(input('Enter the element'))\n",
    "    l.append(ele)\n",
    "print('Now your list is {}'.format(l))\n",
    "print(sum(l))"
   ]
  },
  {
   "cell_type": "code",
   "execution_count": 16,
   "metadata": {},
   "outputs": [],
   "source": [
    "#2.\tWrite a Python Program to find largest element in an array?"
   ]
  },
  {
   "cell_type": "code",
   "execution_count": 74,
   "metadata": {},
   "outputs": [
    {
     "name": "stdout",
     "output_type": "stream",
     "text": [
      "enter the number of element want to enter4\n",
      "Enter the element99\n",
      "Enter the element3\n",
      "Enter the element222\n",
      "Enter the element2\n",
      "Now your list is [99, 3, 222, 2]\n",
      "your largest element is 222\n"
     ]
    }
   ],
   "source": [
    "l=[]\n",
    "n=int(input('enter the number of element want to enter'))\n",
    "for i in range(0,n):\n",
    "    ele=int(input('Enter the element'))\n",
    "    l.append(ele)\n",
    "print('Now your list is {}'.format(l))\n",
    "print('your largest element is {}'.format(max(l)))"
   ]
  },
  {
   "cell_type": "code",
   "execution_count": 19,
   "metadata": {},
   "outputs": [],
   "source": [
    "#3.\tWrite a Python Program for array rotation?"
   ]
  },
  {
   "cell_type": "code",
   "execution_count": 73,
   "metadata": {},
   "outputs": [
    {
     "name": "stdout",
     "output_type": "stream",
     "text": [
      "enter the number of element want to enter4\n",
      "Enter the element1\n",
      "Enter the element2\n",
      "Enter the element3\n",
      "Enter the element4\n",
      "Now your list is [1, 2, 3, 4]\n",
      "Your reverse arry is [4, 3, 2, 1]\n"
     ]
    }
   ],
   "source": [
    "l=[]\n",
    "n=int(input('enter the number of element want to enter'))\n",
    "for i in range(0,n):\n",
    "    ele=int(input('Enter the element'))\n",
    "    l.append(ele)\n",
    "print('Now your list is {}'.format(l))\n",
    "print('Your reverse arry is {}'.format(l[::-1]))"
   ]
  },
  {
   "cell_type": "code",
   "execution_count": 23,
   "metadata": {},
   "outputs": [],
   "source": [
    "#4.\tWrite a Python Program to Split the array and add the first part to the end?"
   ]
  },
  {
   "cell_type": "code",
   "execution_count": 71,
   "metadata": {},
   "outputs": [
    {
     "name": "stdout",
     "output_type": "stream",
     "text": [
      "enter the number of element want to enter4\n",
      "Enter the element10\n",
      "Enter the element3\n",
      "Enter the element2\n",
      "Enter the element1\n",
      "Now your list is [10, 3, 2, 1]\n",
      "Now your 1st element will got to end [3, 2, 1, 10]\n"
     ]
    }
   ],
   "source": [
    "l=[]\n",
    "n=int(input('enter the number of element want to enter'))\n",
    "for i in range(0,n):\n",
    "    ele=int(input('Enter the element'))\n",
    "    l.append(ele)\n",
    "print('Now your list is {}'.format(l))\n",
    "l2=[]\n",
    "for i in range(1,len(l)):\n",
    "    l2.append(l[i])\n",
    "l2.append(l[0])\n",
    "print('Now your 1st element will got to end {}'.format(l2))"
   ]
  },
  {
   "cell_type": "code",
   "execution_count": 129,
   "metadata": {},
   "outputs": [],
   "source": [
    "#5.\tWrite a Python Program to check if given array is Monotonic?"
   ]
  },
  {
   "cell_type": "code",
   "execution_count": 150,
   "metadata": {},
   "outputs": [
    {
     "name": "stdout",
     "output_type": "stream",
     "text": [
      "enter the number of element want to enter4\n",
      "Enter the element1\n",
      "Enter the element2\n",
      "Enter the element3\n",
      "Enter the element4\n",
      "Now your list is [1, 2, 3, 4]\n",
      "Its monotonic\n"
     ]
    }
   ],
   "source": [
    "l=[]\n",
    "n=int(input('enter the number of element want to enter'))\n",
    "for i in range(0,n):\n",
    "    ele=int(input('Enter the element'))\n",
    "    l.append(ele)\n",
    "print('Now your list is {}'.format(l))\n",
    "\n",
    "m=pd.Series(l).is_monotonic\n",
    "if m==True:\n",
    "    print('Its monotonic')\n",
    "else:\n",
    "    print('Its not monotonic')"
   ]
  },
  {
   "cell_type": "code",
   "execution_count": 149,
   "metadata": {},
   "outputs": [
    {
     "name": "stdout",
     "output_type": "stream",
     "text": [
      "its incrase monotonic\n"
     ]
    }
   ],
   "source": [
    "l=[12,30,5]\n",
    "for i in range(len(l)-1):\n",
    "    if l[i]<=l[i+1]:\n",
    "        print('its incrase monotonic')\n",
    "        break\n",
    "    elif l[i]>=l[i]:\n",
    "        print('m')\n",
    "        break\n",
    "    else:\n",
    "        print('not')"
   ]
  }
 ],
 "metadata": {
  "kernelspec": {
   "display_name": "Python 3",
   "language": "python",
   "name": "python3"
  },
  "language_info": {
   "codemirror_mode": {
    "name": "ipython",
    "version": 3
   },
   "file_extension": ".py",
   "mimetype": "text/x-python",
   "name": "python",
   "nbconvert_exporter": "python",
   "pygments_lexer": "ipython3",
   "version": "3.8.3"
  }
 },
 "nbformat": 4,
 "nbformat_minor": 4
}
