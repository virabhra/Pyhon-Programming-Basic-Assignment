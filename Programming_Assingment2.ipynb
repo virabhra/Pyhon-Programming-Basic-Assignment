{
 "cells": [
  {
   "cell_type": "code",
   "execution_count": 1,
   "metadata": {},
   "outputs": [],
   "source": [
    "#1.\tWrite a Python program to convert kilometers to miles?"
   ]
  },
  {
   "cell_type": "code",
   "execution_count": 4,
   "metadata": {},
   "outputs": [
    {
     "name": "stdout",
     "output_type": "stream",
     "text": [
      "Enter you kilometer value134\n",
      "now you miles output is 83.26371400000001\n"
     ]
    }
   ],
   "source": [
    "k=float(input('Enter you kilometer value'))\n",
    "# conversion factor\n",
    "c=0.621371\n",
    "m=k*c\n",
    "print('now you miles output is {}'.format(m))"
   ]
  },
  {
   "cell_type": "code",
   "execution_count": 5,
   "metadata": {},
   "outputs": [],
   "source": [
    "#2.\tWrite a Python program to convert Celsius to Fahrenheit?"
   ]
  },
  {
   "cell_type": "code",
   "execution_count": 6,
   "metadata": {},
   "outputs": [
    {
     "name": "stdout",
     "output_type": "stream",
     "text": [
      "Enter celcisou value36.5\n",
      "Now Fahrenheit value is 97.7\n"
     ]
    }
   ],
   "source": [
    "c=float(input('Enter celcisou value'))\n",
    "f=(c*9/5)+32\n",
    "print('Now Fahrenheit value is {}'.format(f))"
   ]
  },
  {
   "cell_type": "code",
   "execution_count": 7,
   "metadata": {},
   "outputs": [],
   "source": [
    "#3.\tWrite a Python program to display calendar?"
   ]
  },
  {
   "cell_type": "code",
   "execution_count": 9,
   "metadata": {},
   "outputs": [
    {
     "name": "stdout",
     "output_type": "stream",
     "text": [
      "Enter year: 2021\n",
      "Enter month: 3\n",
      "     March 2021\n",
      "Mo Tu We Th Fr Sa Su\n",
      " 1  2  3  4  5  6  7\n",
      " 8  9 10 11 12 13 14\n",
      "15 16 17 18 19 20 21\n",
      "22 23 24 25 26 27 28\n",
      "29 30 31\n",
      "\n"
     ]
    }
   ],
   "source": [
    "import calendar  \n",
    "y = int(input(\"Enter year: \"))  \n",
    "m = int(input(\"Enter month: \"))  \n",
    "print(calendar.month(y,m))  "
   ]
  },
  {
   "cell_type": "code",
   "execution_count": 10,
   "metadata": {},
   "outputs": [],
   "source": [
    "#4.\tWrite a Python program to solve quadratic equation?"
   ]
  },
  {
   "cell_type": "code",
   "execution_count": 11,
   "metadata": {},
   "outputs": [
    {
     "name": "stdout",
     "output_type": "stream",
     "text": [
      "Enter 1st value2\n",
      "Enter 2nd value3\n",
      "Enter 3rd value4\n",
      "The solution are (-0.75-1.1989578808281798j) and (-0.75+1.1989578808281798j)\n"
     ]
    }
   ],
   "source": [
    "# import complex math module\n",
    "import cmath\n",
    "\n",
    "a = int(input('Enter 1st value'))\n",
    "b = int(input('Enter 2nd value'))\n",
    "c = int(input('Enter 3rd value'))\n",
    "d = (b**2) - (4*a*c)\n",
    "sol1 = (-b-cmath.sqrt(d))/(2*a)\n",
    "sol2 = (-b+cmath.sqrt(d))/(2*a)\n",
    "print('The solution are {0} and {1}'.format(sol1,sol2))"
   ]
  },
  {
   "cell_type": "code",
   "execution_count": 12,
   "metadata": {},
   "outputs": [],
   "source": [
    "#5.\tWrite a Python program to swap two variables without temp variable?"
   ]
  },
  {
   "cell_type": "code",
   "execution_count": 17,
   "metadata": {},
   "outputs": [
    {
     "name": "stdout",
     "output_type": "stream",
     "text": [
      "Enter 1st value10\n",
      "Enter 2nd value100\n",
      "Your 1st value 10\n",
      "Your 2nd value 100\n",
      "Now your 1st value is 100\n",
      "Now your 2nd value is 10\n"
     ]
    }
   ],
   "source": [
    "a=int(input('Enter 1st value'))\n",
    "b=int(input('Enter 2nd value'))\n",
    "print('Your 1st value {}'.format(a))\n",
    "print('Your 2nd value {}'.format(b))\n",
    "a=a+b\n",
    "b=a-b\n",
    "a=a-b\n",
    "print('Now your 1st value is {}'.format(a))\n",
    "print('Now your 2nd value is {}'.format(b))\n"
   ]
  }
 ],
 "metadata": {
  "kernelspec": {
   "display_name": "Python 3",
   "language": "python",
   "name": "python3"
  },
  "language_info": {
   "codemirror_mode": {
    "name": "ipython",
    "version": 3
   },
   "file_extension": ".py",
   "mimetype": "text/x-python",
   "name": "python",
   "nbconvert_exporter": "python",
   "pygments_lexer": "ipython3",
   "version": "3.8.3"
  }
 },
 "nbformat": 4,
 "nbformat_minor": 4
}
