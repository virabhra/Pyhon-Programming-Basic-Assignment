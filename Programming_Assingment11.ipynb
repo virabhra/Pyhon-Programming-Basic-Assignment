{
 "cells": [
  {
   "cell_type": "code",
   "execution_count": 1,
   "metadata": {},
   "outputs": [],
   "source": [
    "#1.\tWrite a Python program to find words which are greater than given length k?"
   ]
  },
  {
   "cell_type": "code",
   "execution_count": 8,
   "metadata": {},
   "outputs": [
    {
     "name": "stdout",
     "output_type": "stream",
     "text": [
      "Enter length of k4\n",
      "['abhrajit,', 'bangalore']\n"
     ]
    }
   ],
   "source": [
    "s='my name is abhrajit, I stay in bangalore'\n",
    "k=int(input('Enter length of k'))\n",
    "l2=[]\n",
    "l=s.split()\n",
    "for i in l:\n",
    "    if len(i)>k:\n",
    "        l2.append(i)\n",
    "print(l2)"
   ]
  },
  {
   "cell_type": "code",
   "execution_count": 9,
   "metadata": {},
   "outputs": [],
   "source": [
    "#2.\tWrite a Python program for removing i-th character from a string?"
   ]
  },
  {
   "cell_type": "code",
   "execution_count": 21,
   "metadata": {},
   "outputs": [
    {
     "name": "stdout",
     "output_type": "stream",
     "text": [
      "Enter length of k1\n",
      "['my', 'name', 'is', 'abhrajit,', 'stay', 'in', 'bangalore']\n"
     ]
    }
   ],
   "source": [
    "s='my name is abhrajit, I stay in bangalore'\n",
    "k=int(input('Enter length of k'))\n",
    "l2=[]\n",
    "l=s.split()\n",
    "for i in l:\n",
    "    if len(i)!=k:\n",
    "        l2.append(i)\n",
    "print(l2)"
   ]
  },
  {
   "cell_type": "code",
   "execution_count": 22,
   "metadata": {},
   "outputs": [],
   "source": [
    "#3.\tWrite a Python program to split and join a string?"
   ]
  },
  {
   "cell_type": "code",
   "execution_count": 30,
   "metadata": {},
   "outputs": [
    {
     "data": {
      "text/plain": [
       "'my-name-is-abhrajit,-I-stay-in-bangalore'"
      ]
     },
     "execution_count": 30,
     "metadata": {},
     "output_type": "execute_result"
    }
   ],
   "source": [
    "s='my name is abhrajit, I stay in bangalore'\n",
    "j='-'.join(s.split())\n",
    "j"
   ]
  },
  {
   "cell_type": "code",
   "execution_count": 31,
   "metadata": {},
   "outputs": [],
   "source": [
    "#4.\tWrite a Python to check if a given string is binary string or not?"
   ]
  },
  {
   "cell_type": "code",
   "execution_count": 94,
   "metadata": {},
   "outputs": [
    {
     "name": "stdout",
     "output_type": "stream",
     "text": [
      "Its not binary string\n"
     ]
    }
   ],
   "source": [
    "s='abhrajit 0101010'\n",
    "s1={'0','1'}\n",
    "s2=set(s)\n",
    "if s2==s1 or s2=={'0'} or s2=={'1'}:\n",
    "    print('It is binary String')\n",
    "else:\n",
    "    print('Its not binary string')"
   ]
  },
  {
   "cell_type": "code",
   "execution_count": 95,
   "metadata": {},
   "outputs": [],
   "source": [
    "#5.\tWrite a Python program to find uncommon words from two Strings?"
   ]
  },
  {
   "cell_type": "code",
   "execution_count": 137,
   "metadata": {},
   "outputs": [
    {
     "name": "stdout",
     "output_type": "stream",
     "text": [
      "{'i', 'my', 'stay', 'you', 'hope', 'now', 'are', 'your'}\n"
     ]
    }
   ],
   "source": [
    "s1='my name is abhrajit, I stay in bangalore I'\n",
    "s2='your name is Abhrajit, hope you are in Bangalore now'\n",
    "s1=s1.lower()\n",
    "s2=s2.lower()\n",
    "s1=s1.split()\n",
    "s2=s2.split()\n",
    "c=[]\n",
    "for i in s1:\n",
    "    if i not in s2:\n",
    "        c.append(i)\n",
    "for j in s2:\n",
    "    if j not in s1:\n",
    "        c.append(j)\n",
    "print(set(c))"
   ]
  },
  {
   "cell_type": "code",
   "execution_count": 181,
   "metadata": {},
   "outputs": [],
   "source": [
    "#6.\tWrite a Python to find all duplicate characters in string? ############"
   ]
  },
  {
   "cell_type": "code",
   "execution_count": 215,
   "metadata": {},
   "outputs": [
    {
     "name": "stdout",
     "output_type": "stream",
     "text": [
      "m y   n a e i s A I l\n"
     ]
    }
   ],
   "source": [
    "## initializing string\n",
    "string = \"my my name is ABHRAJIT pal I stay in bangalore\"\n",
    "duplicates = []\n",
    "for char in string:\n",
    "    if string.count(char) > 1:\n",
    "        if char not in duplicates:\n",
    "            duplicates.append(char)\n",
    "print(*duplicates)"
   ]
  },
  {
   "cell_type": "code",
   "execution_count": 180,
   "metadata": {},
   "outputs": [],
   "source": [
    "#7.\tWrite a Python Program to check if a string contains any special character?"
   ]
  },
  {
   "cell_type": "code",
   "execution_count": 197,
   "metadata": {},
   "outputs": [
    {
     "name": "stdout",
     "output_type": "stream",
     "text": [
      "Yes in the string have special char\n"
     ]
    }
   ],
   "source": [
    "p = '''!()-[]{};:'\"\\,<>./?@#$%^&*_~'''\n",
    "s='stringHello!!!, My name is #Abhrajit @---I stay in Bangalore!!!!'\n",
    "for i in s:\n",
    "    if i in p:\n",
    "        print('Yes in the string have special char')\n",
    "        break"
   ]
  },
  {
   "cell_type": "code",
   "execution_count": 214,
   "metadata": {},
   "outputs": [
    {
     "name": "stdout",
     "output_type": "stream",
     "text": [
      "Duplicate characters in a given string: \n"
     ]
    }
   ],
   "source": [
    "s = \"Great responsibility\";  \n",
    "   \n",
    "print(\"Duplicate characters in a given string: \");  \n",
    "#Counts each character present in the string  \n",
    "for i in range(0, len(s)):\n",
    "    "
   ]
  },
  {
   "cell_type": "code",
   "execution_count": null,
   "metadata": {},
   "outputs": [],
   "source": []
  }
 ],
 "metadata": {
  "kernelspec": {
   "display_name": "Python 3",
   "language": "python",
   "name": "python3"
  },
  "language_info": {
   "codemirror_mode": {
    "name": "ipython",
    "version": 3
   },
   "file_extension": ".py",
   "mimetype": "text/x-python",
   "name": "python",
   "nbconvert_exporter": "python",
   "pygments_lexer": "ipython3",
   "version": "3.8.3"
  }
 },
 "nbformat": 4,
 "nbformat_minor": 4
}
