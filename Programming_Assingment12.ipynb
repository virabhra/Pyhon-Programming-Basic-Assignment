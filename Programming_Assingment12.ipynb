{
 "cells": [
  {
   "cell_type": "code",
   "execution_count": 3,
   "metadata": {},
   "outputs": [],
   "source": [
    "from collections import OrderedDict"
   ]
  },
  {
   "cell_type": "code",
   "execution_count": 1,
   "metadata": {},
   "outputs": [],
   "source": [
    "#1.\tWrite a Python program to Extract Unique values dictionary values?"
   ]
  },
  {
   "cell_type": "code",
   "execution_count": 47,
   "metadata": {},
   "outputs": [
    {
     "name": "stdout",
     "output_type": "stream",
     "text": [
      "{'Vishnu', 'sita', 'Ram'}\n"
     ]
    }
   ],
   "source": [
    "l = {'511':'Vishnu','512':'Vishnu','513':'Ram','514':'Ram','515':'sita'}\n",
    "l2=[]\n",
    "for (a,b) in l.items():\n",
    "    l2.append(b)\n",
    "print(set(l2))"
   ]
  },
  {
   "cell_type": "code",
   "execution_count": 51,
   "metadata": {},
   "outputs": [
    {
     "name": "stdout",
     "output_type": "stream",
     "text": [
      "2565\n"
     ]
    }
   ],
   "source": [
    "#2.\tWrite a Python program to find the sum of all items in a dictionary?\n",
    "l = {'a':511,'b':512,'c':513,'d':514,'e':515}\n",
    "l2=[]\n",
    "for (a,b) in l.items():\n",
    "    l2.append(b)\n",
    "print(sum(l2))"
   ]
  },
  {
   "cell_type": "code",
   "execution_count": 52,
   "metadata": {},
   "outputs": [],
   "source": [
    "#3.\tWrite a Python program to Merging two Dictionaries?"
   ]
  },
  {
   "cell_type": "code",
   "execution_count": 65,
   "metadata": {},
   "outputs": [
    {
     "name": "stdout",
     "output_type": "stream",
     "text": [
      "{'511': 'Vishnu', '512': 'Vishnu', '513': 'Ram', '514': 'Ram', '515': 'sita', 'a': 511, 'b': 512, 'c': 513, 'd': 514, 'e': 515}\n"
     ]
    }
   ],
   "source": [
    "l1 = {'511':'Vishnu','512':'Vishnu','513':'Ram','514':'Ram','515':'sita'}\n",
    "l2 = {'a':511,'b':512,'c':513,'d':514,'e':515}\n",
    "l3={}\n",
    "l3.update(l1)\n",
    "l3.update(l2)\n",
    "print(l3)"
   ]
  },
  {
   "cell_type": "code",
   "execution_count": 66,
   "metadata": {},
   "outputs": [],
   "source": [
    "#4.\tWrite a Python program to convert key-values list to flat dictionary?"
   ]
  },
  {
   "cell_type": "code",
   "execution_count": 205,
   "metadata": {},
   "outputs": [
    {
     "name": "stdout",
     "output_type": "stream",
     "text": [
      "[{'Jan': 1}, {'Feb': 2}, {'March': 3}]\n"
     ]
    }
   ],
   "source": [
    "d={'name': ['Jan', 'Feb', 'March'], 'month': [1, 2, 3]}\n",
    "d2={}\n",
    "l1=[]\n",
    "for (i,v) in d.items():\n",
    "    l1.append(v)\n",
    "c1=l1[0]\n",
    "c2=l1[1]\n",
    "d2=[{a:b} for (a,b) in zip(c1,c2)]\n",
    "print(d2)"
   ]
  },
  {
   "cell_type": "code",
   "execution_count": 206,
   "metadata": {},
   "outputs": [],
   "source": [
    "#5.\tWrite a Python program to insertion at the beginning in OrderedDict?"
   ]
  },
  {
   "cell_type": "code",
   "execution_count": 12,
   "metadata": {},
   "outputs": [
    {
     "data": {
      "text/plain": [
       "{5: 'five', 1: 'One', 2: 'two', 3: 'three'}"
      ]
     },
     "execution_count": 12,
     "metadata": {},
     "output_type": "execute_result"
    }
   ],
   "source": [
    "#process 1\n",
    "d1={1:'One',2:'two',3:'three'}\n",
    "d2={5:'five'}\n",
    "d2.update(d1)\n",
    "d2"
   ]
  },
  {
   "cell_type": "code",
   "execution_count": 13,
   "metadata": {},
   "outputs": [
    {
     "data": {
      "text/plain": [
       "OrderedDict([('manjeet', '3'), ('akshat', '1'), ('nikhil', '2')])"
      ]
     },
     "execution_count": 13,
     "metadata": {},
     "output_type": "execute_result"
    }
   ],
   "source": [
    "from collections import OrderedDict\n",
    "d1=OrderedDict([('akshat', '1'), ('nikhil', '2')])\n",
    "d2=({'manjeet':'3'})\n",
    "d1.update(d2)\n",
    "d1.move_to_end('manjeet',last=False)\n",
    "d1"
   ]
  },
  {
   "cell_type": "code",
   "execution_count": 14,
   "metadata": {},
   "outputs": [],
   "source": [
    "#6.\tWrite a Python program to check order of character in string using OrderedDict()?"
   ]
  },
  {
   "cell_type": "code",
   "execution_count": 31,
   "metadata": {},
   "outputs": [
    {
     "name": "stdout",
     "output_type": "stream",
     "text": [
      "Order dict {1: 'one', 4: 'four', 2: 'two', 3: 'three', 5: 'five'}\n",
      "key: 1, value: one\n",
      "key: 4, value: four\n",
      "key: 2, value: two\n",
      "key: 3, value: three\n",
      "key: 5, value: five\n"
     ]
    }
   ],
   "source": [
    "from collections import OrderedDict\n",
    "import collections\n",
    "order_dic=collections.OrderedDict()\n",
    "order_dic={}\n",
    "order_dic[1]='one'\n",
    "order_dic[4]='four'\n",
    "order_dic[2]='two'\n",
    "order_dic[3]='three'\n",
    "order_dic[5]='five'\n",
    "\n",
    "print('Order dict {}'.format(order_dic))\n",
    "\n",
    "for k,v in order_dic.items():\n",
    "    print('key: {0}, value: {1}'.format(k,v))"
   ]
  },
  {
   "cell_type": "code",
   "execution_count": 32,
   "metadata": {},
   "outputs": [],
   "source": [
    "#7.\tWrite a Python program to sort Python Dictionaries by Key or Value?"
   ]
  },
  {
   "cell_type": "code",
   "execution_count": 42,
   "metadata": {},
   "outputs": [
    {
     "name": "stdout",
     "output_type": "stream",
     "text": [
      "OrderedDict([(1, '10'), (2, '2'), (4, '9'), (6, '32')])\n"
     ]
    }
   ],
   "source": [
    "from collections import OrderedDict \n",
    "dict = {1:'10',4:'9',6:'15',2:'2',6:'32'} \n",
    "dic1=OrderedDict(sorted(dict.items()))\n",
    "print(dic1)"
   ]
  }
 ],
 "metadata": {
  "kernelspec": {
   "display_name": "Python 3",
   "language": "python",
   "name": "python3"
  },
  "language_info": {
   "codemirror_mode": {
    "name": "ipython",
    "version": 3
   },
   "file_extension": ".py",
   "mimetype": "text/x-python",
   "name": "python",
   "nbconvert_exporter": "python",
   "pygments_lexer": "ipython3",
   "version": "3.8.3"
  }
 },
 "nbformat": 4,
 "nbformat_minor": 4
}
