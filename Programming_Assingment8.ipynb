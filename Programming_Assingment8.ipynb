{
 "cells": [
  {
   "cell_type": "code",
   "execution_count": 1,
   "metadata": {},
   "outputs": [],
   "source": [
    "#1.\tWrite a Python Program to Add Two Matrices?"
   ]
  },
  {
   "cell_type": "code",
   "execution_count": 51,
   "metadata": {},
   "outputs": [
    {
     "data": {
      "text/plain": [
       "[[11, 22, 33], [44, 55, 66], [77, 88, 99]]"
      ]
     },
     "execution_count": 51,
     "metadata": {},
     "output_type": "execute_result"
    }
   ],
   "source": [
    "c=[[0,0,0],[0,0,0],[0,0,0]]\n",
    "a=[[1,2,3],[4,5,6],[7,8,9]]\n",
    "b=[[10,20,30],[40,50,60],[70,80,90]]\n",
    "for i in range(len(a)):\n",
    "    for j in range(len(a[i])):\n",
    "        c[i][j]=a[i][j]+b[i][j]\n",
    "c"
   ]
  },
  {
   "cell_type": "code",
   "execution_count": 52,
   "metadata": {},
   "outputs": [],
   "source": [
    "#2.\tWrite a Python Program to Multiply Two Matrices?"
   ]
  },
  {
   "cell_type": "code",
   "execution_count": 58,
   "metadata": {},
   "outputs": [
    {
     "data": {
      "text/plain": [
       "[[11, 22, 33], [44, 55, 66], [77, 88, 99]]"
      ]
     },
     "execution_count": 58,
     "metadata": {},
     "output_type": "execute_result"
    }
   ],
   "source": [
    "c=[[0,0,0],[0,0,0],[0,0,0]]\n",
    "a=[[1,2,3],[4,5,6],[7,8,9]]\n",
    "b=[[10,20,30],[40,50,60],[70,80,90]]\n",
    "for i in range(len(a)):\n",
    "    for j in range(len(a[i])):\n",
    "        c[i][j]=a[i][j]+b[i][j]\n",
    "c"
   ]
  },
  {
   "cell_type": "code",
   "execution_count": 54,
   "metadata": {},
   "outputs": [],
   "source": [
    "#3.\tWrite a Python Program to Transpose a Matrix?"
   ]
  },
  {
   "cell_type": "code",
   "execution_count": 66,
   "metadata": {},
   "outputs": [
    {
     "data": {
      "text/plain": [
       "[[1, 4, 7], [2, 5, 8], [3, 6, 9]]"
      ]
     },
     "execution_count": 66,
     "metadata": {},
     "output_type": "execute_result"
    }
   ],
   "source": [
    "c=[[0,0,0],[0,0,0],[0,0,0]]\n",
    "a=[[1,2,3],[4,5,6],[7,8,9]]\n",
    "for i in range(len(a)):\n",
    "    for j in range(len(a[i])):\n",
    "        c[i][j]=a[j][i]\n",
    "c"
   ]
  },
  {
   "cell_type": "code",
   "execution_count": 67,
   "metadata": {},
   "outputs": [],
   "source": [
    "#4.\tWrite a Python Program to Sort Words in Alphabetic Order?"
   ]
  },
  {
   "cell_type": "code",
   "execution_count": 83,
   "metadata": {},
   "outputs": [
    {
     "name": "stdout",
     "output_type": "stream",
     "text": [
      "Enter a stringmy name is Abhrajit Pal, I stay in Bangalore\n"
     ]
    },
    {
     "data": {
      "text/plain": [
       "['abhrajit', 'bangalore', 'i', 'in', 'is', 'my', 'name', 'pal,', 'stay']"
      ]
     },
     "execution_count": 83,
     "metadata": {},
     "output_type": "execute_result"
    }
   ],
   "source": [
    "word=[]\n",
    "w=input('Enter a string')\n",
    "w=w.split()\n",
    "for i in w:\n",
    "    i=i.lower()\n",
    "    word.append(i)\n",
    "word.sort()\n",
    "word"
   ]
  },
  {
   "cell_type": "code",
   "execution_count": 84,
   "metadata": {},
   "outputs": [],
   "source": [
    "#5.\tWrite a Python Program to Remove Punctuation From a String?"
   ]
  },
  {
   "cell_type": "code",
   "execution_count": 88,
   "metadata": {},
   "outputs": [
    {
     "name": "stdout",
     "output_type": "stream",
     "text": [
      "Enter your stringHello!!!, My name is Abhrajit ---I stay in Bangalore!!!!.\n"
     ]
    },
    {
     "data": {
      "text/plain": [
       "'Hello My name is Abhrajit I stay in Bangalore'"
      ]
     },
     "execution_count": 88,
     "metadata": {},
     "output_type": "execute_result"
    }
   ],
   "source": [
    "p = '''!()-[]{};:'\"\\,<>./?@#$%^&*_~'''\n",
    "s = input('Enter your string')\n",
    "no_p=''\n",
    "for ch in s:\n",
    "    if ch not in p:\n",
    "        no_p=no_p+ch\n",
    "no_p"
   ]
  }
 ],
 "metadata": {
  "kernelspec": {
   "display_name": "Python 3",
   "language": "python",
   "name": "python3"
  },
  "language_info": {
   "codemirror_mode": {
    "name": "ipython",
    "version": 3
   },
   "file_extension": ".py",
   "mimetype": "text/x-python",
   "name": "python",
   "nbconvert_exporter": "python",
   "pygments_lexer": "ipython3",
   "version": "3.8.3"
  }
 },
 "nbformat": 4,
 "nbformat_minor": 4
}
